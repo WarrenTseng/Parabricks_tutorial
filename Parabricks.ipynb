{
 "cells": [
  {
   "cell_type": "code",
   "execution_count": null,
   "id": "844c5f54-d6a9-44b2-92c1-bc988fa66f8c",
   "metadata": {
    "scrolled": true
   },
   "outputs": [],
   "source": [
    "!apt update\n",
    "!apt install -y wget"
   ]
  },
  {
   "cell_type": "markdown",
   "id": "727be743-7a89-4242-83d3-3920884a7327",
   "metadata": {},
   "source": [
    "## Download the Sample Data"
   ]
  },
  {
   "cell_type": "code",
   "execution_count": null,
   "id": "1b939766-26a3-4d9f-93f3-3f6062c42627",
   "metadata": {
    "scrolled": true
   },
   "outputs": [],
   "source": [
    "# The tar file is 9.3GB and, when extracted, an additional 14GB\n",
    "!mkdir sample_data\n",
    "%cd sample_data\n",
    "!wget -O parabricks_sample.tar.gz \"https://s3.amazonaws.com/parabricks.sample/parabricks_sample.tar.gz\"\n",
    "!tar xvf parabricks_sample.tar.gz\n",
    "!mv parabricks_sample/* .\n",
    "%cd ..\n",
    "!mkdir outputdir"
   ]
  },
  {
   "cell_type": "code",
   "execution_count": null,
   "id": "a4076948-d6f0-4270-9418-378e115601c7",
   "metadata": {},
   "outputs": [],
   "source": [
    "!ls sample_data"
   ]
  },
  {
   "cell_type": "code",
   "execution_count": null,
   "id": "af9bccea-d790-4073-9937-3c32718f1faf",
   "metadata": {},
   "outputs": [],
   "source": [
    "!ls sample_data/Data"
   ]
  },
  {
   "cell_type": "code",
   "execution_count": null,
   "id": "4449d1d7-09a9-459d-b71d-7ccc75037583",
   "metadata": {},
   "outputs": [],
   "source": [
    "!ls sample_data/Ref"
   ]
  },
  {
   "cell_type": "markdown",
   "id": "81d854c7-c48b-4e62-a843-eadcca5ab261",
   "metadata": {},
   "source": [
    "## GPU Monitoring"
   ]
  },
  {
   "cell_type": "code",
   "execution_count": null,
   "id": "d5523e52-751a-4059-9751-f36883738c2f",
   "metadata": {},
   "outputs": [],
   "source": [
    "!nvidia-smi"
   ]
  },
  {
   "cell_type": "code",
   "execution_count": null,
   "id": "a0374156-867b-4477-a3bf-1bfcd17fef31",
   "metadata": {},
   "outputs": [],
   "source": [
    "# Run the command below in the terminal\n",
    "### watch -n 0.5 nvidia-smi\n",
    "#"
   ]
  },
  {
   "cell_type": "markdown",
   "id": "0832aacf-e020-411e-a3ae-73bae3d20553",
   "metadata": {},
   "source": [
    "## Alignment: FASTQ to BAM"
   ]
  },
  {
   "cell_type": "code",
   "execution_count": null,
   "id": "9fefd231-7f38-4c2c-908d-e6c8599b6dbc",
   "metadata": {},
   "outputs": [],
   "source": [
    "WORKDIR = '/ws'"
   ]
  },
  {
   "cell_type": "code",
   "execution_count": null,
   "id": "59143bbc-005d-46d2-a9c0-3c27d03b7a25",
   "metadata": {
    "scrolled": true
   },
   "outputs": [],
   "source": [
    "!pbrun fq2bam -h"
   ]
  },
  {
   "cell_type": "code",
   "execution_count": null,
   "id": "8a661081-f1c6-4e63-bfc5-e15eee8f2a31",
   "metadata": {
    "scrolled": true
   },
   "outputs": [],
   "source": [
    "# BQSR is not recommended for DeepVariant pipeline \\\n",
    "!pbrun fq2bam \\\n",
    "      --ref $WORKDIR/sample_data/Ref/Homo_sapiens_assembly38.fasta \\\n",
    "      --in-fq $WORKDIR/sample_data/Data/sample_1.fq.gz $WORKDIR/sample_data/Data/sample_2.fq.gz \\\n",
    "      --out-bam $WORKDIR/outputdir/fq2bam_output.bam \\\n",
    "#       --knownSites $WORKDIR/sample_data/Ref/Homo_sapiens_assembly38.known_indels.vcf.gz \\\n",
    "#       --out-recal-file $WORKDIR/outputdir/recall.table \\\n",
    "      --num-gpus 1"
   ]
  },
  {
   "cell_type": "code",
   "execution_count": null,
   "id": "481db6af-77bd-4398-b82a-d26b61c693a7",
   "metadata": {},
   "outputs": [],
   "source": [
    "!ls outputdir/"
   ]
  },
  {
   "cell_type": "markdown",
   "id": "b640e24c-121d-417b-b7f6-c41f4b649d6a",
   "metadata": {},
   "source": [
    "## Variant Calling"
   ]
  },
  {
   "cell_type": "markdown",
   "id": "e2e1e51d-b363-4cff-8cfa-2dec27843353",
   "metadata": {},
   "source": [
    "#### GATK Haplotypecaller"
   ]
  },
  {
   "cell_type": "code",
   "execution_count": null,
   "id": "4c4fb290-443b-403a-a72c-964912ca0f4c",
   "metadata": {
    "scrolled": true
   },
   "outputs": [],
   "source": [
    "!pbrun haplotypecaller -h"
   ]
  },
  {
   "cell_type": "markdown",
   "id": "37034272-6a20-471f-b994-a506a749ad52",
   "metadata": {},
   "source": [
    "- vcf"
   ]
  },
  {
   "cell_type": "code",
   "execution_count": null,
   "id": "f076e38d-314a-4395-8cbf-c5e770b3a16f",
   "metadata": {
    "scrolled": true
   },
   "outputs": [],
   "source": [
    "!pbrun haplotypecaller \\\n",
    "      --ref $WORKDIR/sample_data/Ref/Homo_sapiens_assembly38.fasta \\\n",
    "      --in-bam $WORKDIR/outputdir/fq2bam_output.bam \\\n",
    "      --out-variants $WORKDIR/outputdir/variants_gatk.vcf \\\n",
    "      --num-gpus 1"
   ]
  },
  {
   "cell_type": "markdown",
   "id": "c5d408cc-ff62-4fd5-85c5-7d6d6cf18481",
   "metadata": {},
   "source": [
    "- gvcf"
   ]
  },
  {
   "cell_type": "code",
   "execution_count": null,
   "id": "bc65cc13-6ad2-4dcd-b3fd-0b284c2d9414",
   "metadata": {
    "scrolled": true
   },
   "outputs": [],
   "source": [
    "!pbrun haplotypecaller \\\n",
    "      '''\n",
    "      FIX ME\n",
    "      '''"
   ]
  },
  {
   "cell_type": "markdown",
   "id": "c9992893-7139-4202-9c8e-cae64b39bae4",
   "metadata": {},
   "source": [
    "\"The key difference between a regular VCF and a GVCF is that the GVCF has records for all sites, whether there is a variant call there or not. The goal is to have every site represented in the file in order to do joint analysis of a cohort in subsequent steps.\" (https://gatk.broadinstitute.org/hc/en-us/articles/360035531812-GVCF-Genomic-Variant-Call-Format)"
   ]
  },
  {
   "cell_type": "markdown",
   "id": "0ca6968e-4835-4138-ae7b-b3294867d3a6",
   "metadata": {},
   "source": [
    "#### DeepVariant"
   ]
  },
  {
   "cell_type": "code",
   "execution_count": null,
   "id": "774b562b-378c-42da-8579-f645f3a7a84e",
   "metadata": {
    "scrolled": true
   },
   "outputs": [],
   "source": [
    "!pbrun deepvariant -h"
   ]
  },
  {
   "cell_type": "markdown",
   "id": "d947725a-7a36-41cf-a1b2-feb33fcf8d3b",
   "metadata": {},
   "source": [
    "- vcf"
   ]
  },
  {
   "cell_type": "code",
   "execution_count": null,
   "id": "fedb93a4-8ca8-4afa-9069-938a2052d457",
   "metadata": {
    "scrolled": true
   },
   "outputs": [],
   "source": [
    "!pbrun deepvariant \\\n",
    "    --ref $WORKDIR/sample_data/Ref/Homo_sapiens_assembly38.fasta \\\n",
    "    --in-bam $WORKDIR/outputdir/fq2bam_output.bam \\\n",
    "    --out-variants $WORKDIR/outputdir/variants_dv.vcf \\\n",
    "    --num-streams-per-gpu 2 \\\n",
    "    --run-partition \\\n",
    "    --gpu-num-per-partition 1 \\\n",
    "    --num-gpus 1"
   ]
  },
  {
   "cell_type": "markdown",
   "id": "232ecee4-d01c-4e22-a39f-0b26202ef336",
   "metadata": {},
   "source": [
    "DeepVariant from Parabricks has the ability to use multiple streams on a GPU. The number of streams that can be used depends on the available resources. The default number of streams is set to two but can be increased up to a maximum of six to get better performance. This is something that has to be experimented with, before getting the optimal number on your system. (https://docs.nvidia.com/clara/parabricks/4.1.0/bestperformance.html#best-performance-for-deepvariant)"
   ]
  },
  {
   "cell_type": "code",
   "execution_count": null,
   "id": "d459010a-4946-4e70-b144-e637299028ad",
   "metadata": {
    "scrolled": true
   },
   "outputs": [],
   "source": [
    "!pbrun deepvariant \\\n",
    "    --ref $WORKDIR/sample_data/Ref/Homo_sapiens_assembly38.fasta \\\n",
    "    --in-bam $WORKDIR/outputdir/fq2bam_output.bam \\\n",
    "    --out-variants $WORKDIR/outputdir/variants_dv.vcf \\\n",
    "    --num-streams-per-gpu 4 \\\n",
    "    --run-partition \\\n",
    "    --gpu-num-per-partition 1 \\\n",
    "    --num-gpus 1"
   ]
  },
  {
   "cell_type": "markdown",
   "id": "c9f60d6c-985c-4d78-ae85-d735d5c1cc46",
   "metadata": {},
   "source": [
    "- gvcf"
   ]
  },
  {
   "cell_type": "markdown",
   "id": "a85f500f-adbc-43ef-b395-fa4a497e66a1",
   "metadata": {},
   "source": [
    "Using the --run-partition, --proposed-variants, and --gvcf options at the same time will lead to a substantial slowdown."
   ]
  },
  {
   "cell_type": "code",
   "execution_count": null,
   "id": "fc8ae15a-562b-48b3-908c-5352ab87c9b7",
   "metadata": {
    "scrolled": true
   },
   "outputs": [],
   "source": [
    "!pbrun deepvariant \\\n",
    "    --ref $WORKDIR/sample_data/Ref/Homo_sapiens_assembly38.fasta \\\n",
    "    --in-bam $WORKDIR/outputdir/fq2bam_output.bam \\\n",
    "    --out-variants $WORKDIR/outputdir/variants_dv.g.vcf \\\n",
    "    --num-streams-per-gpu 4 \\\n",
    "    --gvcf \\\n",
    "    --num-gpus 1"
   ]
  },
  {
   "cell_type": "code",
   "execution_count": null,
   "id": "2df97884-e445-4971-895c-11a7bb1e7e8b",
   "metadata": {},
   "outputs": [],
   "source": []
  }
 ],
 "metadata": {
  "kernelspec": {
   "display_name": "Python 3 (ipykernel)",
   "language": "python",
   "name": "python3"
  },
  "language_info": {
   "codemirror_mode": {
    "name": "ipython",
    "version": 3
   },
   "file_extension": ".py",
   "mimetype": "text/x-python",
   "name": "python",
   "nbconvert_exporter": "python",
   "pygments_lexer": "ipython3",
   "version": "3.10.12"
  }
 },
 "nbformat": 4,
 "nbformat_minor": 5
}
